{
  "cells": [
    {
      "cell_type": "markdown",
      "id": "f7ef20f0-722f-4240-8a79-437d4a3b8832",
      "metadata": {
        "id": "f7ef20f0-722f-4240-8a79-437d4a3b8832"
      },
      "source": [
        "## Assignment 3: $k$ Nearest Neighbor\n",
        "\n",
        "`! git clone https://github.com/ds3001f25/knn_assignment.git`\n",
        "\n",
        "**Do two questions in total: \"Q1+Q2\" or \"Q1+Q3\"**\n"
      ]
    },
    {
      "cell_type": "markdown",
      "id": "5d9212c0",
      "metadata": {
        "id": "5d9212c0"
      },
      "source": [
        "**Q1.**\n",
        "1. What is the difference between regression and classification?\n",
        "2. What is a confusion table? What does it help us understand about a model's performance?\n",
        "3. What does the SSE quantify about a particular model?\n",
        "4. What are overfitting and underfitting?\n",
        "5. Why does splitting the data into training and testing sets, and choosing $k$ by evaluating accuracy or SSE on the test set, improve model performance?\n",
        "6. With classification, we can report a class label as a prediction or a probability distribution over class labels. Please explain the strengths and weaknesses of each approach."
      ]
    },
    {
      "cell_type": "markdown",
      "source": [
        "**Q1 Responses:**\n",
        "1. Regression is when a numeric outcome is predicted while classification predicts a categorical outcome. Although both are types of machine learning tasks the difference appears in the type of output they predict\n",
        "Ex:\n",
        "*   Numeric: What are the sales likely to be?\n",
        "*   Categorical: What class of vehicle is it likely to be?\n",
        "2. A confusion table is a cross-tablulation of predicted and actual values. Confusion tables help us to understand classification predictions, it is a metric for whether a model has done well or poorly.\n",
        "3. SSE = Residual sum of squares. The sum of squares is a statistical measure of variability. Indicating the dispersion of data points around the mean. It is the difference between the observed and the predicted values, and tells us the total unexplained variation in the data failed to be captured by the model. It also can help show model accuracy and the goodness data patterns.\n",
        "4. Overfitting occurs when your model is too complex to reliably explain the phenomenon you are interested in. Underfitting occurs when your model is too simple to reliably explain the phenomenon you are interested in.\n",
        "5. Splitting the data up into training or test sets improves the models performance when involved with unseen data. The model learns patterns from the training set data then the test set evaluates how well the trained model performes on the unseen data.\n",
        "Choosing k through accuracy or SSE also improves performance because it generalizes the data well instead of just memorizing what was trained. It also prevents overfitting and keeps the measure realistic to how it would perform in the real world.\n",
        "6. Class label Prediction: The model picks one class it thinks is the most likely.\n",
        "Ex: \"Dog\"\n",
        "Strength: Simple andn clear, very good when only one final class matters.\n",
        "Weakness: Not any other information given. Model might not always be correct if the class amounts are close.\n",
        "Probability: Probability for each class\n",
        "Ex:\n",
        "Dog: 70%, Cat: 20%, Pig: 10%\n",
        "Strength: Levels of confidence for each class.\n",
        "Weakness: More technical data, not just one clear cut answer. Needs a well tuned, accurate, working model.\n",
        "\n",
        "\n"
      ],
      "metadata": {
        "id": "MFI2I_HlRwBM"
      },
      "id": "MFI2I_HlRwBM"
    },
    {
      "cell_type": "markdown",
      "id": "194455fa",
      "metadata": {
        "id": "194455fa"
      },
      "source": [
        "**Q2.** This question is a case study for $k$ nearest neighbor regression, using the `USA_cars_datasets.csv` data.\n",
        "\n",
        "The target variable `y` is `price` and the features are `year` and `mileage`.\n",
        "\n",
        "1. Load the `./data/USA_cars_datasets.csv`. Keep the following variables and drop the rest: `price`, `year`, `mileage`. Are there any `NA`'s to handle? Look at the head and dimensions of the data.\n",
        "2. Maxmin normalize `year` and `mileage`.\n",
        "3. Split the sample into ~80% for training and ~20% for evaluation.\n",
        "4. Use the $k$NN algorithm and the training data to predict `price` using `year` and `mileage` for the test set for $k=3,10,25,50,100,300$. For each value of $k$, compute the mean squared error and print a scatterplot showing the test value plotted against the predicted value. What patterns do you notice as you increase $k$?\n",
        "5. Determine the optimal $k$ for these data.\n",
        "6. Describe what happened in the plots of predicted versus actual prices as $k$ varied, taking your answer into part 6 into account. (Hint: Use the words \"underfitting\" and \"overfitting\".)"
      ]
    },
    {
      "cell_type": "code",
      "execution_count": 1,
      "id": "739292a2",
      "metadata": {
        "id": "739292a2"
      },
      "outputs": [],
      "source": [
        "import numpy as np\n",
        "import pandas as pd\n",
        "import matplotlib.pyplot as plt\n",
        "import seaborn as sns\n",
        "from sklearn.neighbors import KNeighborsClassifier\n",
        "from sklearn.model_selection import train_test_split\n",
        "from sklearn.metrics import mean_squared_error"
      ]
    },
    {
      "cell_type": "code",
      "source": [
        "#2.1\n",
        "cd = pd.read_csv('USA_cars_datasets.csv')\n",
        "#cd.head()\n",
        "\n",
        "X = cd.loc[:,['price', 'year', 'mileage']]\n",
        "print(X.head())\n",
        "print(X.shape, '\\n')\n",
        "\n",
        "print(X['mileage'].isna().any())\n",
        "print(X['price'].isna().any())\n",
        "print(X['year'].isna().any())"
      ],
      "metadata": {
        "colab": {
          "base_uri": "https://localhost:8080/"
        },
        "id": "vj4FvjyFCYof",
        "outputId": "a3f41d26-733d-4eaf-dd1a-fecd476f6a4a"
      },
      "id": "vj4FvjyFCYof",
      "execution_count": 2,
      "outputs": [
        {
          "output_type": "stream",
          "name": "stdout",
          "text": [
            "   price  year  mileage\n",
            "0   6300  2008   274117\n",
            "1   2899  2011   190552\n",
            "2   5350  2018    39590\n",
            "3  25000  2014    64146\n",
            "4  27700  2018     6654\n",
            "(2499, 3) \n",
            "\n",
            "False\n",
            "False\n",
            "False\n"
          ]
        }
      ]
    },
    {
      "cell_type": "code",
      "source": [
        "#2.2\n",
        "def maxmin(z):\n",
        "  z = (z-z.min())/(z.max()-z.min())\n",
        "  return z\n",
        "\n",
        "X = X.apply(maxmin)"
      ],
      "metadata": {
        "id": "6B9fBnGGGEZi"
      },
      "id": "6B9fBnGGGEZi",
      "execution_count": 3,
      "outputs": []
    },
    {
      "cell_type": "code",
      "source": [
        "#2.3\n",
        "train, eval = train_test_split(X, test_size=0.2, random_state=65)\n",
        "\n",
        "print(\"Train shape:\", train.shape)\n",
        "print(\"Test shape:\", eval.shape)"
      ],
      "metadata": {
        "colab": {
          "base_uri": "https://localhost:8080/"
        },
        "id": "1UrpGDC7NBnB",
        "outputId": "8d595e7c-fb4f-42c1-f1ee-9288cd8bf8e4"
      },
      "id": "1UrpGDC7NBnB",
      "execution_count": 4,
      "outputs": [
        {
          "output_type": "stream",
          "name": "stdout",
          "text": [
            "Train shape: (1999, 3)\n",
            "Test shape: (500, 3)\n"
          ]
        }
      ]
    },
    {
      "cell_type": "code",
      "source": [
        "#2.4.1\n",
        "\n",
        "def knn_class(x_hat,X,K):\n",
        "  squared_differences = (X[['year', 'mileage']].values - x_hat)**2\n",
        "  distances = np.sqrt(squared_differences.sum(axis=1))\n",
        "  neighbors = np.argsort(distances)[:K].tolist()\n",
        "  g_star = X['price'].iloc[neighbors]\n",
        "  return np.mean(g_star)"
      ],
      "metadata": {
        "id": "WusS-uEEKTC8"
      },
      "id": "WusS-uEEKTC8",
      "execution_count": 5,
      "outputs": []
    },
    {
      "cell_type": "code",
      "source": [
        "#2.4.2\n",
        "k_values = [3, 10, 25, 50, 100, 300]\n",
        "mse_results = {}\n",
        "\n",
        "for k in k_values:\n",
        "  preds = []\n",
        "  for _, row in eval.iterrows():\n",
        "    x_hat = np.array([row['year'], row['mileage']])\n",
        "    y_hat = knn_class(x_hat, train, k)\n",
        "    preds.append(y_hat) #predicted values\n",
        "  mse = mean_squared_error(eval['price'], preds)\n",
        "  mse_results[k] = mse\n",
        "  print(f\"K={k}, MSE={mse:.4f}\")\n"
      ],
      "metadata": {
        "id": "6iBbeKsX-959",
        "outputId": "bfe4f0af-66e0-46d2-8e99-376dd8e4f43a",
        "colab": {
          "base_uri": "https://localhost:8080/"
        }
      },
      "id": "6iBbeKsX-959",
      "execution_count": 9,
      "outputs": [
        {
          "output_type": "stream",
          "name": "stdout",
          "text": [
            "K=3, MSE=0.0185\n",
            "K=10, MSE=0.0155\n",
            "K=25, MSE=0.0146\n",
            "K=50, MSE=0.0144\n",
            "K=100, MSE=0.0145\n",
            "K=300, MSE=0.0149\n"
          ]
        }
      ]
    },
    {
      "cell_type": "markdown",
      "source": [
        "As the K value increases from 3-50 the MSE gets smaller. THEN there is a change adter 50 with 100 and 300 where the K value slightly increases.  \n",
        "*   Small K (3,10) = MSE higher. Small K means only a few neighbors used (overfitting)\n",
        "*   Middle K (25,50) = lowest MSE. Averages over more neighbots reducing variance w/o bias\n",
        "*   Large (100,300) = slight increase in MSE. Averages over a large portion of dataset (underfitting)\n"
      ],
      "metadata": {
        "id": "NVbsIe6T-wio"
      },
      "id": "NVbsIe6T-wio"
    },
    {
      "cell_type": "markdown",
      "id": "8d193de6",
      "metadata": {
        "vscode": {
          "languageId": "plaintext"
        },
        "id": "8d193de6"
      },
      "source": [
        "**Q3.** This is a case study on $k$ nearest neighbor regression and imputation, using the `airbnb_hw.csv` data.\n",
        "\n",
        "There are 30,478 observations, but only 22,155 ratings. We're going to build a kNN regressor to impute missing values. This is a common task, and illustrates one way you can use kNN in the future even when you have more advanced models available.\n",
        "\n",
        "1. Load the `airbnb_hw.csv` data with Pandas. We're only going to use `Review Scores Rating`, `Price`, and `Beds`, so use `.loc` to reduce the dataframe to those variables.\n",
        "2. Set use `.isnull()` to select the subset of the dataframe with missing review values. Set those aside in a different dataframe. We'll make predictions about them later.\n",
        "3. Use `df = df.dropna(axis = 0, how = 'any')` to eliminate any observations with missing values/NA's from the dataframe.\n",
        "4. For the complete cases, create a $k$-NN model that uses the variables `Price` and `Beds` to predict `Review Scores Rating`. How do you choose $k$? (Hint: Train/test split, iterate over reasonable values of $k$ and find a value that minimizes SSE on the test split using predictions from the training set.)\n",
        "5. Predict the missing ratings.\n",
        "6. Do a kernel density plot of the training ratings and the predicted missing ratings. Do they look similar or not? Explain why."
      ]
    },
    {
      "cell_type": "code",
      "execution_count": 8,
      "id": "b362aa0d",
      "metadata": {
        "id": "b362aa0d"
      },
      "outputs": [],
      "source": []
    }
  ],
  "metadata": {
    "kernelspec": {
      "display_name": "Python 3 (ipykernel)",
      "language": "python",
      "name": "python3"
    },
    "language_info": {
      "codemirror_mode": {
        "name": "ipython",
        "version": 3
      },
      "file_extension": ".py",
      "mimetype": "text/x-python",
      "name": "python",
      "nbconvert_exporter": "python",
      "pygments_lexer": "ipython3",
      "version": "3.10.18"
    },
    "colab": {
      "provenance": []
    }
  },
  "nbformat": 4,
  "nbformat_minor": 5
}